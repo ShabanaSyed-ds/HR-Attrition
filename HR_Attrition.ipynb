{
 "cells": [
  {
   "cell_type": "code",
   "execution_count": 1,
   "metadata": {},
   "outputs": [
    {
     "data": {
      "text/plain": [
       "<bound method DataFrame.items of       Age AgeGroup  Attrition     BusinessTravel  DailyRate Department  \\\n",
       "0      41    36-45          1      Travel Rarely       1102      Sales   \n",
       "1      33    26-35          0  Travel Frequently       1392        R&D   \n",
       "2      27    26-35          0      Travel Rarely        591        R&D   \n",
       "3      32    26-35          0  Travel Frequently       1005        R&D   \n",
       "4      30    26-35          0      Travel Rarely       1358        R&D   \n",
       "...   ...      ...        ...                ...        ...        ...   \n",
       "1465   55    46-55          0      Travel Rarely        189         HR   \n",
       "1466   37    36-45          0      Travel Rarely        161        R&D   \n",
       "1467   36    36-45          0  Travel Frequently        884        R&D   \n",
       "1468   27    26-35          0      Travel Rarely        155        R&D   \n",
       "1469   34    26-35          0      Travel Rarely        628        R&D   \n",
       "\n",
       "      DistanceFromHome      Education   EducationField  EmployeeCount  ...  \\\n",
       "0                    1        College    Life Sciences              1  ...   \n",
       "1                    3         Master    Life Sciences              1  ...   \n",
       "2                    2  Below College          Medical              1  ...   \n",
       "3                    2        College    Life Sciences              1  ...   \n",
       "4                   24  Below College    Life Sciences              1  ...   \n",
       "...                ...            ...              ...            ...  ...   \n",
       "1465                26         Master  Human Resources              1  ...   \n",
       "1466                10       Bachelor    Life Sciences              1  ...   \n",
       "1467                23        College          Medical              1  ...   \n",
       "1468                 4       Bachelor    Life Sciences              1  ...   \n",
       "1469                 8       Bachelor          Medical              1  ...   \n",
       "\n",
       "     RelationshipSatisfaction StandardHours  StockOptionLevel  \\\n",
       "0                         Low            80                 0   \n",
       "1                        High            80                 0   \n",
       "2                   Very High            80                 1   \n",
       "3                        High            80                 0   \n",
       "4                      Medium            80                 1   \n",
       "...                       ...           ...               ...   \n",
       "1465                      Low            80                 1   \n",
       "1466                      Low            80                 1   \n",
       "1467                     High            80                 1   \n",
       "1468                   Medium            80                 1   \n",
       "1469                      Low            80                 0   \n",
       "\n",
       "     TotalWorkingYears  TrainingTimesLastYear WorkLifeBalance YearsAtCompany  \\\n",
       "0                    8                      0             Bad              6   \n",
       "1                    8                      3          Better              8   \n",
       "2                    6                      3          Better              2   \n",
       "3                    8                      2            Good              7   \n",
       "4                    1                      2          Better              1   \n",
       "...                ...                    ...             ...            ...   \n",
       "1465                35                      0          Better             10   \n",
       "1466                16                      2          Better             16   \n",
       "1467                17                      3          Better              5   \n",
       "1468                 6                      0          Better              6   \n",
       "1469                 6                      3            Best              4   \n",
       "\n",
       "     YearsatCOmpany2  YearsSinceLastPromotion  YearsWithCurrManager  \n",
       "0                  4                        0                     5  \n",
       "1                  7                        3                     0  \n",
       "2                  2                        2                     2  \n",
       "3                  7                        3                     6  \n",
       "4                  0                        0                     0  \n",
       "...              ...                      ...                   ...  \n",
       "1465               9                        1                     4  \n",
       "1466              11                        6                     8  \n",
       "1467               2                        0                     3  \n",
       "1468               2                        0                     3  \n",
       "1469               3                        1                     2  \n",
       "\n",
       "[1470 rows x 34 columns]>"
      ]
     },
     "execution_count": 1,
     "metadata": {},
     "output_type": "execute_result"
    }
   ],
   "source": [
    "import pandas as pd\n",
    "df=pd.read_csv(\"/Users/zoyasyed/Downloads/Power BI/HR.csv\")\n",
    "df.items"
   ]
  },
  {
   "cell_type": "code",
   "execution_count": 2,
   "metadata": {},
   "outputs": [
    {
     "data": {
      "text/plain": [
       "(1233, 34)"
      ]
     },
     "execution_count": 2,
     "metadata": {},
     "output_type": "execute_result"
    }
   ],
   "source": [
    "Attr = df[df.Attrition==1]\n",
    "Attr.shape\n",
    "NoAttr=df[df.Attrition==0]\n",
    "NoAttr.shape"
   ]
  },
  {
   "cell_type": "code",
   "execution_count": 3,
   "metadata": {},
   "outputs": [
    {
     "data": {
      "text/html": [
       "<div>\n",
       "<style scoped>\n",
       "    .dataframe tbody tr th:only-of-type {\n",
       "        vertical-align: middle;\n",
       "    }\n",
       "\n",
       "    .dataframe tbody tr th {\n",
       "        vertical-align: top;\n",
       "    }\n",
       "\n",
       "    .dataframe thead th {\n",
       "        text-align: right;\n",
       "    }\n",
       "</style>\n",
       "<table border=\"1\" class=\"dataframe\">\n",
       "  <thead>\n",
       "    <tr style=\"text-align: right;\">\n",
       "      <th></th>\n",
       "      <th>Age</th>\n",
       "      <th>DailyRate</th>\n",
       "      <th>DistanceFromHome</th>\n",
       "      <th>EmployeeCount</th>\n",
       "      <th>HourlyRate</th>\n",
       "      <th>JobLevel</th>\n",
       "      <th>MonthlyIncome</th>\n",
       "      <th>MonthlyRate</th>\n",
       "      <th>NumCompaniesWorked</th>\n",
       "      <th>PercentSalaryHike</th>\n",
       "      <th>PerformanceRating</th>\n",
       "      <th>StandardHours</th>\n",
       "      <th>StockOptionLevel</th>\n",
       "      <th>TotalWorkingYears</th>\n",
       "      <th>TrainingTimesLastYear</th>\n",
       "      <th>YearsAtCompany</th>\n",
       "      <th>YearsatCOmpany2</th>\n",
       "      <th>YearsSinceLastPromotion</th>\n",
       "      <th>YearsWithCurrManager</th>\n",
       "    </tr>\n",
       "    <tr>\n",
       "      <th>Attrition</th>\n",
       "      <th></th>\n",
       "      <th></th>\n",
       "      <th></th>\n",
       "      <th></th>\n",
       "      <th></th>\n",
       "      <th></th>\n",
       "      <th></th>\n",
       "      <th></th>\n",
       "      <th></th>\n",
       "      <th></th>\n",
       "      <th></th>\n",
       "      <th></th>\n",
       "      <th></th>\n",
       "      <th></th>\n",
       "      <th></th>\n",
       "      <th></th>\n",
       "      <th></th>\n",
       "      <th></th>\n",
       "      <th></th>\n",
       "    </tr>\n",
       "  </thead>\n",
       "  <tbody>\n",
       "    <tr>\n",
       "      <th>0</th>\n",
       "      <td>37.561233</td>\n",
       "      <td>812.504461</td>\n",
       "      <td>8.915653</td>\n",
       "      <td>1.0</td>\n",
       "      <td>65.952149</td>\n",
       "      <td>2.145985</td>\n",
       "      <td>6832.739659</td>\n",
       "      <td>14265.779400</td>\n",
       "      <td>2.645580</td>\n",
       "      <td>15.231144</td>\n",
       "      <td>3.153285</td>\n",
       "      <td>80.0</td>\n",
       "      <td>0.845093</td>\n",
       "      <td>11.862936</td>\n",
       "      <td>2.832928</td>\n",
       "      <td>7.369019</td>\n",
       "      <td>4.484185</td>\n",
       "      <td>2.234388</td>\n",
       "      <td>4.367397</td>\n",
       "    </tr>\n",
       "    <tr>\n",
       "      <th>1</th>\n",
       "      <td>33.607595</td>\n",
       "      <td>750.362869</td>\n",
       "      <td>10.632911</td>\n",
       "      <td>1.0</td>\n",
       "      <td>65.573840</td>\n",
       "      <td>1.637131</td>\n",
       "      <td>4787.092827</td>\n",
       "      <td>14559.308017</td>\n",
       "      <td>2.940928</td>\n",
       "      <td>15.097046</td>\n",
       "      <td>3.156118</td>\n",
       "      <td>80.0</td>\n",
       "      <td>0.527426</td>\n",
       "      <td>8.244726</td>\n",
       "      <td>2.624473</td>\n",
       "      <td>5.130802</td>\n",
       "      <td>2.902954</td>\n",
       "      <td>1.945148</td>\n",
       "      <td>2.852321</td>\n",
       "    </tr>\n",
       "  </tbody>\n",
       "</table>\n",
       "</div>"
      ],
      "text/plain": [
       "                 Age   DailyRate  DistanceFromHome  EmployeeCount  HourlyRate  \\\n",
       "Attrition                                                                       \n",
       "0          37.561233  812.504461          8.915653            1.0   65.952149   \n",
       "1          33.607595  750.362869         10.632911            1.0   65.573840   \n",
       "\n",
       "           JobLevel  MonthlyIncome   MonthlyRate  NumCompaniesWorked  \\\n",
       "Attrition                                                              \n",
       "0          2.145985    6832.739659  14265.779400            2.645580   \n",
       "1          1.637131    4787.092827  14559.308017            2.940928   \n",
       "\n",
       "           PercentSalaryHike  PerformanceRating  StandardHours  \\\n",
       "Attrition                                                        \n",
       "0                  15.231144           3.153285           80.0   \n",
       "1                  15.097046           3.156118           80.0   \n",
       "\n",
       "           StockOptionLevel  TotalWorkingYears  TrainingTimesLastYear  \\\n",
       "Attrition                                                               \n",
       "0                  0.845093          11.862936               2.832928   \n",
       "1                  0.527426           8.244726               2.624473   \n",
       "\n",
       "           YearsAtCompany  YearsatCOmpany2  YearsSinceLastPromotion  \\\n",
       "Attrition                                                             \n",
       "0                7.369019         4.484185                 2.234388   \n",
       "1                5.130802         2.902954                 1.945148   \n",
       "\n",
       "           YearsWithCurrManager  \n",
       "Attrition                        \n",
       "0                      4.367397  \n",
       "1                      2.852321  "
      ]
     },
     "execution_count": 3,
     "metadata": {},
     "output_type": "execute_result"
    }
   ],
   "source": [
    "df.groupby('Attrition').mean()"
   ]
  },
  {
   "cell_type": "code",
   "execution_count": 4,
   "metadata": {},
   "outputs": [
    {
     "data": {
      "text/plain": [
       "<AxesSubplot:xlabel='AgeGroup'>"
      ]
     },
     "execution_count": 4,
     "metadata": {},
     "output_type": "execute_result"
    },
    {
     "data": {
      "image/png": "[encoded data removed]",
      "text/plain": [
       "<Figure size 432x288 with 1 Axes>"
      ]
     },
     "metadata": {
      "needs_background": "light"
     },
     "output_type": "display_data"
    }
   ],
   "source": [
    "pd.crosstab(df.AgeGroup,df.Attrition).plot(kind='bar')"
   ]
  },
  {
   "cell_type": "code",
   "execution_count": 5,
   "metadata": {},
   "outputs": [
    {
     "data": {
      "text/plain": [
       "<AxesSubplot:xlabel='BusinessTravel'>"
      ]
     },
     "execution_count": 5,
     "metadata": {},
     "output_type": "execute_result"
    },
    {
     "data": {
      "image/png": "[encoded data removed]",
      "text/plain": [
       "<Figure size 432x288 with 1 Axes>"
      ]
     },
     "metadata": {
      "needs_background": "light"
     },
     "output_type": "display_data"
    }
   ],
   "source": [
    "pd.crosstab(df.BusinessTravel,df.Attrition).plot(kind='bar')"
   ]
  },
  {
   "cell_type": "code",
   "execution_count": 6,
   "metadata": {},
   "outputs": [
    {
     "data": {
      "text/plain": [
       "<AxesSubplot:xlabel='JobLevel'>"
      ]
     },
     "execution_count": 6,
     "metadata": {},
     "output_type": "execute_result"
    },
    {
     "data": {
      "image/png": "[encoded data removed]",
      "text/plain": [
       "<Figure size 432x288 with 1 Axes>"
      ]
     },
     "metadata": {
      "needs_background": "light"
     },
     "output_type": "display_data"
    }
   ],
   "source": [
    "pd.crosstab(df.JobLevel,df.Attrition).plot(kind='bar')"
   ]
  },
  {
   "cell_type": "code",
   "execution_count": 7,
   "metadata": {},
   "outputs": [
    {
     "data": {
      "text/plain": [
       "<AxesSubplot:xlabel='Department'>"
      ]
     },
     "execution_count": 7,
     "metadata": {},
     "output_type": "execute_result"
    },
    {
     "data": {
      "image/png": "[encoded data removed]",
      "text/plain": [
       "<Figure size 432x288 with 1 Axes>"
      ]
     },
     "metadata": {
      "needs_background": "light"
     },
     "output_type": "display_data"
    }
   ],
   "source": [
    "pd.crosstab(df.Department,df.Attrition).plot(kind='bar')"
   ]
  },
  {
   "cell_type": "code",
   "execution_count": 8,
   "metadata": {},
   "outputs": [
    {
     "data": {
      "text/html": [
       "<div>\n",
       "<style scoped>\n",
       "    .dataframe tbody tr th:only-of-type {\n",
       "        vertical-align: middle;\n",
       "    }\n",
       "\n",
       "    .dataframe tbody tr th {\n",
       "        vertical-align: top;\n",
       "    }\n",
       "\n",
       "    .dataframe thead th {\n",
       "        text-align: right;\n",
       "    }\n",
       "</style>\n",
       "<table border=\"1\" class=\"dataframe\">\n",
       "  <thead>\n",
       "    <tr style=\"text-align: right;\">\n",
       "      <th></th>\n",
       "      <th>MonthlyRate</th>\n",
       "      <th>NumCompaniesWorked</th>\n",
       "      <th>DistanceFromHome</th>\n",
       "      <th>TrainingTimesLastYear</th>\n",
       "      <th>PercentSalaryHike</th>\n",
       "      <th>MonthlyIncome</th>\n",
       "      <th>PerformanceRating</th>\n",
       "    </tr>\n",
       "  </thead>\n",
       "  <tbody>\n",
       "    <tr>\n",
       "      <th>0</th>\n",
       "      <td>19479</td>\n",
       "      <td>8</td>\n",
       "      <td>1</td>\n",
       "      <td>0</td>\n",
       "      <td>11</td>\n",
       "      <td>5993</td>\n",
       "      <td>3</td>\n",
       "    </tr>\n",
       "    <tr>\n",
       "      <th>1</th>\n",
       "      <td>23159</td>\n",
       "      <td>1</td>\n",
       "      <td>3</td>\n",
       "      <td>3</td>\n",
       "      <td>11</td>\n",
       "      <td>2909</td>\n",
       "      <td>3</td>\n",
       "    </tr>\n",
       "    <tr>\n",
       "      <th>2</th>\n",
       "      <td>16632</td>\n",
       "      <td>9</td>\n",
       "      <td>2</td>\n",
       "      <td>3</td>\n",
       "      <td>12</td>\n",
       "      <td>3468</td>\n",
       "      <td>3</td>\n",
       "    </tr>\n",
       "    <tr>\n",
       "      <th>3</th>\n",
       "      <td>11864</td>\n",
       "      <td>0</td>\n",
       "      <td>2</td>\n",
       "      <td>2</td>\n",
       "      <td>13</td>\n",
       "      <td>3068</td>\n",
       "      <td>3</td>\n",
       "    </tr>\n",
       "    <tr>\n",
       "      <th>4</th>\n",
       "      <td>13335</td>\n",
       "      <td>1</td>\n",
       "      <td>24</td>\n",
       "      <td>2</td>\n",
       "      <td>22</td>\n",
       "      <td>2693</td>\n",
       "      <td>4</td>\n",
       "    </tr>\n",
       "  </tbody>\n",
       "</table>\n",
       "</div>"
      ],
      "text/plain": [
       "   MonthlyRate  NumCompaniesWorked  DistanceFromHome  TrainingTimesLastYear  \\\n",
       "0        19479                   8                 1                      0   \n",
       "1        23159                   1                 3                      3   \n",
       "2        16632                   9                 2                      3   \n",
       "3        11864                   0                 2                      2   \n",
       "4        13335                   1                24                      2   \n",
       "\n",
       "   PercentSalaryHike  MonthlyIncome  PerformanceRating  \n",
       "0                 11           5993                  3  \n",
       "1                 11           2909                  3  \n",
       "2                 12           3468                  3  \n",
       "3                 13           3068                  3  \n",
       "4                 22           2693                  4  "
      ]
     },
     "execution_count": 8,
     "metadata": {},
     "output_type": "execute_result"
    }
   ],
   "source": [
    "cols=df[['MonthlyRate','NumCompaniesWorked','DistanceFromHome','TrainingTimesLastYear','PercentSalaryHike','MonthlyIncome','PerformanceRating']]\n",
    "cols.head()\n",
    "#,"
   ]
  },
  {
   "cell_type": "code",
   "execution_count": 9,
   "metadata": {
    "scrolled": true
   },
   "outputs": [],
   "source": [
    "#salary_dummies = pd.get_dummies(subdf.salary, prefix=\"salary\")\n",
    "#df_with_dummies = pd.concat([subdf,salary_dummies],axis='columns')\n",
    "#df_with_dummies.head()\n"
   ]
  },
  {
   "cell_type": "code",
   "execution_count": 10,
   "metadata": {},
   "outputs": [],
   "source": [
    "X=cols\n",
    "X.head()\n",
    "Y=df.Attrition\n"
   ]
  },
  {
   "cell_type": "code",
   "execution_count": 16,
   "metadata": {
    "scrolled": false
   },
   "outputs": [
    {
     "data": {
      "text/plain": [
       "(1323, 7)"
      ]
     },
     "execution_count": 16,
     "metadata": {},
     "output_type": "execute_result"
    }
   ],
   "source": [
    "from sklearn.model_selection import train_test_split\n",
    "X_train, X_test, Y_train, Y_test = train_test_split(X,Y,test_size=0.1,random_state=0)\n",
    "X_train.shape"
   ]
  },
  {
   "cell_type": "code",
   "execution_count": 17,
   "metadata": {},
   "outputs": [
    {
     "data": {
      "text/plain": [
       "LogisticRegression()"
      ]
     },
     "execution_count": 17,
     "metadata": {},
     "output_type": "execute_result"
    }
   ],
   "source": [
    "from sklearn.linear_model import LogisticRegression\n",
    "model=LogisticRegression()\n",
    "model.fit(X_train,Y_train)\n"
   ]
  },
  {
   "cell_type": "code",
   "execution_count": 18,
   "metadata": {},
   "outputs": [
    {
     "data": {
      "text/plain": [
       "array([0, 0, 0, 0, 0, 0, 0, 0, 0, 0, 0, 0, 0, 0, 0, 0, 0, 0, 0, 0, 0, 0,\n",
       "       0, 0, 0, 0, 0, 0, 0, 0, 0, 0, 0, 0, 0, 0, 0, 0, 0, 0, 0, 0, 0, 0,\n",
       "       0, 0, 0, 0, 0, 0, 0, 0, 0, 0, 0, 0, 0, 0, 0, 0, 0, 0, 0, 0, 0, 0,\n",
       "       0, 0, 0, 0, 0, 0, 0, 0, 0, 0, 0, 0, 0, 0, 0, 0, 0, 0, 0, 0, 0, 0,\n",
       "       0, 0, 0, 0, 0, 0, 0, 0, 0, 0, 0, 0, 0, 0, 0, 0, 0, 0, 0, 0, 0, 0,\n",
       "       0, 0, 0, 0, 0, 0, 0, 0, 0, 0, 0, 0, 0, 0, 0, 0, 0, 0, 0, 0, 0, 0,\n",
       "       0, 0, 0, 0, 0, 0, 0, 0, 0, 0, 0, 0, 0, 0, 0])"
      ]
     },
     "execution_count": 18,
     "metadata": {},
     "output_type": "execute_result"
    }
   ],
   "source": [
    "model.predict(X_test)\n"
   ]
  },
  {
   "cell_type": "code",
   "execution_count": 22,
   "metadata": {},
   "outputs": [
    {
     "data": {
      "text/plain": [
       "0.8299319727891157"
      ]
     },
     "execution_count": 22,
     "metadata": {},
     "output_type": "execute_result"
    }
   ],
   "source": [
    "model.score(X_test,Y_test)\n"
   ]
  },
  {
   "cell_type": "code",
   "execution_count": 84,
   "metadata": {},
   "outputs": [],
   "source": [
    "from sklearn import tree"
   ]
  },
  {
   "cell_type": "code",
   "execution_count": 85,
   "metadata": {},
   "outputs": [],
   "source": [
    "model1=tree.DecisionTreeClassifier()"
   ]
  },
  {
   "cell_type": "code",
   "execution_count": 86,
   "metadata": {},
   "outputs": [
    {
     "data": {
      "text/plain": [
       "DecisionTreeClassifier()"
      ]
     },
     "execution_count": 86,
     "metadata": {},
     "output_type": "execute_result"
    }
   ],
   "source": [
    "model1.fit(X_train,Y_train)"
   ]
  },
  {
   "cell_type": "code",
   "execution_count": 87,
   "metadata": {},
   "outputs": [
    {
     "data": {
      "text/plain": [
       "0.7653061224489796"
      ]
     },
     "execution_count": 87,
     "metadata": {},
     "output_type": "execute_result"
    }
   ],
   "source": [
    "model1.score(X_test,Y_test)"
   ]
  },
  {
   "cell_type": "code",
   "execution_count": null,
   "metadata": {},
   "outputs": [],
   "source": []
  }
 ],
 "metadata": {
  "kernelspec": {
   "display_name": "Python 3",
   "language": "python",
   "name": "python3"
  },
  "language_info": {
   "codemirror_mode": {
    "name": "ipython",
    "version": 3
   },
   "file_extension": ".py",
   "mimetype": "text/x-python",
   "name": "python",
   "nbconvert_exporter": "python",
   "pygments_lexer": "ipython3",
   "version": "3.8.8"
  }
 },
 "nbformat": 4,
 "nbformat_minor": 4
}
